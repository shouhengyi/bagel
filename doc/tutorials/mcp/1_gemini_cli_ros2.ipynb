{
 "cells": [
  {
   "cell_type": "markdown",
   "id": "e94a1b6f",
   "metadata": {},
   "source": [
    "To launch this notebook, run this under the repo root:\n",
    "\n",
    "```sh\n",
    "uv run jupyter lab\n",
    "```\n",
    "\n",
    "In the Jupyter Lab, navigate to the \"doc/tutorials/mcp/1_gemini_cli_ros2.ipynb\" and proceed with the\n",
    "rest of the notebook."
   ]
  },
  {
   "cell_type": "code",
   "execution_count": null,
   "id": "a0e01ef4",
   "metadata": {
    "vscode": {
     "languageId": "plaintext"
    }
   },
   "outputs": [],
   "source": [
    "# Change the working directory to the Bagel repo root.\n",
    "# Please replace with your actual repo root if different.\n",
    "%cd /Users/arunvenkatadri/projects/bagel"
   ]
  },
  {
   "cell_type": "markdown",
   "id": "a1e3e83d",
   "metadata": {},
   "source": [
    "## Install Gemini CLI 💻\n",
    "\n",
    "To install Gemini CLI, please visit: [Gemini CLI's GitHub](https://github.com/google-gemini/gemini-cli/tree/main?tab=readme-ov-file#quickstart)\n",
    "\n",
    "### Flexibility with LLMs ✨\n",
    "\n",
    "While we currently use Gemini CLI for its ease of integration, **the Bagel MCP server is not exclusively tied to Gemini.** You're free to integrate your preferred Large Language Models (LLMs) with Bagel.\n",
    "\n",
    "### Verify Installation ✅\n",
    "\n",
    "After installation, ensure the `gemini` command is accessible in your terminal."
   ]
  },
  {
   "cell_type": "code",
   "execution_count": null,
   "id": "1a83494e",
   "metadata": {
    "vscode": {
     "languageId": "plaintext"
    }
   },
   "outputs": [],
   "source": [
    "!gemini --version"
   ]
  },
  {
   "cell_type": "markdown",
   "id": "2ec87abc",
   "metadata": {},
   "source": [
    "## Run Local Bagel MCP Server\n",
    "\n",
    "First, let's install required ROS2 PyPI packages and source ROS2 dependencies."
   ]
  },
  {
   "cell_type": "code",
   "execution_count": null,
   "id": "514f912a",
   "metadata": {},
   "outputs": [],
   "source": [
    "!source /opt/ros/iron/setup.zsh\n",
    "!uv sync --group ros2"
   ]
  },
  {
   "cell_type": "markdown",
   "id": "c31e8e26",
   "metadata": {},
   "source": [
    "Let's spin up a Bagel MCP server running on localhost:8000"
   ]
  },
  {
   "cell_type": "code",
   "execution_count": null,
   "id": "63ebead9",
   "metadata": {},
   "outputs": [],
   "source": [
    "!uv run main.py up mcp"
   ]
  },
  {
   "cell_type": "markdown",
   "id": "aeea0181",
   "metadata": {},
   "source": [
    "If you go to http://0.0.0.0:8000/sse in your browser, you should see something like:\n",
    "\n",
    "```\n",
    "event: endpoint\n",
    "data: /messages/?session_id=83b3948265a34a27983d97b984710f30\n",
    "```\n",
    "\n",
    ":tada: This means that the Bagel MCP Server is running."
   ]
  },
  {
   "cell_type": "markdown",
   "id": "d040ed22",
   "metadata": {},
   "source": [
    "## Open a New Terminal\n",
    "\n",
    "Please execute the remainder of the notebook's instructions in a **new terminal window**.\n",
    "This is necessary because the Bagel MCP server is currently running and occupying this notebook's\n",
    "terminal session.\n",
    "\n",
    "To connect Bagel MCP Server to Gemini CLI, open or create its config file `~/.gemini/settings.json` and\n",
    "add the `\"mcpServers\"` block:\n",
    "\n",
    "```json\n",
    "{...file contains other config objects\n",
    "  \"mcpServers\": {\n",
    "    \"bagel\": {\n",
    "      \"url\": \"http://localhost:8000/sse\"\n",
    "    }\n",
    "  }\n",
    "}\n",
    "```\n"
   ]
  },
  {
   "cell_type": "markdown",
   "id": "0b97353d",
   "metadata": {},
   "source": [
    "### Launch Gemini 🚀\n",
    "After configuring the connection, launch the gemini CLI:\n",
    "\n",
    "```sh\n",
    "gemini\n",
    "```"
   ]
  },
  {
   "cell_type": "markdown",
   "id": "53afd6ff",
   "metadata": {},
   "source": [
    "### Verify Connection ✅\n",
    "\n",
    "Once Gemini is running, confirm Bagel's connection status by typing `/mcp` and pressing Enter.\n",
    "You should see output similar to this, indicating a successful connection:\n",
    "\n",
    "```console\n",
    "> /mcp\n",
    "\n",
    "ℹ Configured MCP servers:\n",
    " \n",
    "  🟢 bagel - Ready (3 tools)\n",
    "  ...\n",
    "```"
   ]
  },
  {
   "cell_type": "markdown",
   "id": "31c66b26",
   "metadata": {},
   "source": [
    "# Let's Chat 💬"
   ]
  },
  {
   "cell_type": "markdown",
   "id": "78fe0ff5",
   "metadata": {},
   "source": [
    "> Summarize the metadata of robolog \"/Users/arunvenkatadri/projects/bagel/doc/tutorials/data/ros2\"."
   ]
  },
  {
   "cell_type": "markdown",
   "id": "1b7d6a3a",
   "metadata": {},
   "source": [
    "> List all the topics in the robolog. By the way, I want to know their message types and counts too."
   ]
  },
  {
   "cell_type": "markdown",
   "id": "89085553",
   "metadata": {},
   "source": [
    "> Are there any errors in this log? Explain the errors if exist."
   ]
  }
 ],
 "metadata": {
  "kernelspec": {
   "display_name": "Python 3 (ipykernel)",
   "language": "python",
   "name": "python3"
  },
  "language_info": {
   "codemirror_mode": {
    "name": "ipython",
    "version": 3
   },
   "file_extension": ".py",
   "mimetype": "text/x-python",
   "name": "python",
   "nbconvert_exporter": "python",
   "pygments_lexer": "ipython3",
   "version": "3.10.12"
  }
 },
 "nbformat": 4,
 "nbformat_minor": 5
}
