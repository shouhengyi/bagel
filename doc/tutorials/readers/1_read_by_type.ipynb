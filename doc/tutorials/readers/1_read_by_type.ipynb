{
 "cells": [
  {
   "cell_type": "markdown",
   "id": "98cb89f3-03f6-416e-85ff-0f9423e1bf26",
   "metadata": {},
   "source": [
    "# Read Messages by Message Type\n",
    "\n",
    "To read all messages of a specific type, regardless of their topic, use the `TypeMessageReader`.\n",
    "\n",
    "This is useful in robologs where multiple topics often share the same message type."
   ]
  },
  {
   "cell_type": "code",
   "execution_count": 1,
   "id": "b4275163-cc1e-4381-a3f6-5d2fbdd161cd",
   "metadata": {},
   "outputs": [],
   "source": [
    "import os\n",
    "from pathlib import Path\n",
    "\n",
    "current_dir = Path.cwd()\n",
    "project_root = None\n",
    "\n",
    "while current_dir != current_dir.parent:\n",
    "    if (current_dir / '.git').exists():\n",
    "        project_root = current_dir\n",
    "        break\n",
    "    current_dir = current_dir.parent\n",
    "\n",
    "os.chdir(project_root)"
   ]
  },
  {
   "cell_type": "markdown",
   "id": "b74bbb05-38d9-47e4-a3f0-ff79265fd3d4",
   "metadata": {},
   "source": [
    "A `TypeMessageReader` can be created by using the factory function `make_type_message_reader`."
   ]
  },
  {
   "cell_type": "code",
   "execution_count": 2,
   "id": "c052d16a-4290-406a-bb42-9c6dfb040811",
   "metadata": {},
   "outputs": [],
   "source": [
    "from src.reader import factory\n",
    "\n",
    "reader = factory.make_type_message_reader(\"doc/tutorials/data/ros2\")"
   ]
  },
  {
   "cell_type": "markdown",
   "id": "818351be-8623-4d2f-b090-cd505ed1d56b",
   "metadata": {},
   "source": [
    "These are the available topics and their message types."
   ]
  },
  {
   "cell_type": "code",
   "execution_count": 3,
   "id": "e458a767-b75f-4c4e-8349-2d52ab5c8070",
   "metadata": {
    "scrolled": true
   },
   "outputs": [
    {
     "data": {
      "text/plain": [
       "{'/fluid_pressure': 'sensor_msgs/msg/FluidPressure',\n",
       " '/parameter_events': 'rcl_interfaces/msg/ParameterEvent',\n",
       " '/events/write_split': 'rosbag2_interfaces/msg/WriteSplitEvent',\n",
       " '/rosout': 'rcl_interfaces/msg/Log'}"
      ]
     },
     "execution_count": 3,
     "metadata": {},
     "output_type": "execute_result"
    }
   ],
   "source": [
    "reader.type_names"
   ]
  },
  {
   "cell_type": "markdown",
   "id": "debc42dd-6432-4052-8862-ad23b3baf886",
   "metadata": {},
   "source": [
    "These are the unique message types in this robolog."
   ]
  },
  {
   "cell_type": "code",
   "execution_count": 4,
   "id": "a690142d-f138-4101-be39-c3f171f3392d",
   "metadata": {
    "scrolled": true
   },
   "outputs": [
    {
     "data": {
      "text/plain": [
       "['rcl_interfaces/msg/Log',\n",
       " 'sensor_msgs/msg/FluidPressure',\n",
       " 'rosbag2_interfaces/msg/WriteSplitEvent',\n",
       " 'rcl_interfaces/msg/ParameterEvent']"
      ]
     },
     "execution_count": 4,
     "metadata": {},
     "output_type": "execute_result"
    }
   ],
   "source": [
    "list(set(reader.type_names.values()))"
   ]
  },
  {
   "cell_type": "markdown",
   "id": "7b596f55-8c5e-4d21-918a-3cedd3f34882",
   "metadata": {},
   "source": [
    "This example gathers all messages of type `sensor_msgs/msg/FluidPressure` and presents them as a pandas DataFrame.\n",
    "\n",
    "The resulting DataFrame contains the following columns:\n",
    "\n",
    "- `robolog_id`: A unique ID for the robolog.\n",
    "- `timestamp_seconds`: The message's timestamp in seconds.\n",
    "- `topic`: The original topic of the message.\n",
    "- `message`: The actual message content."
   ]
  },
  {
   "cell_type": "code",
   "execution_count": 5,
   "id": "e1a9a826-90e9-41c3-888d-834e55db8cf4",
   "metadata": {},
   "outputs": [
    {
     "data": {
      "text/html": [
       "<div>\n",
       "<style scoped>\n",
       "    .dataframe tbody tr th:only-of-type {\n",
       "        vertical-align: middle;\n",
       "    }\n",
       "\n",
       "    .dataframe tbody tr th {\n",
       "        vertical-align: top;\n",
       "    }\n",
       "\n",
       "    .dataframe thead th {\n",
       "        text-align: right;\n",
       "    }\n",
       "</style>\n",
       "<table border=\"1\" class=\"dataframe\">\n",
       "  <thead>\n",
       "    <tr style=\"text-align: right;\">\n",
       "      <th></th>\n",
       "      <th>robolog_id</th>\n",
       "      <th>timestamp_seconds</th>\n",
       "      <th>topic</th>\n",
       "      <th>message</th>\n",
       "    </tr>\n",
       "  </thead>\n",
       "  <tbody>\n",
       "    <tr>\n",
       "      <th>0</th>\n",
       "      <td>281e260f-0fc9-57e6-8c33-787dc436009f</td>\n",
       "      <td>1.689970e+09</td>\n",
       "      <td>/fluid_pressure</td>\n",
       "      <td>{'header': {'stamp': {'sec': 0, 'nanosec': 0},...</td>\n",
       "    </tr>\n",
       "    <tr>\n",
       "      <th>1</th>\n",
       "      <td>281e260f-0fc9-57e6-8c33-787dc436009f</td>\n",
       "      <td>1.689970e+09</td>\n",
       "      <td>/fluid_pressure</td>\n",
       "      <td>{'header': {'stamp': {'sec': 0, 'nanosec': 0},...</td>\n",
       "    </tr>\n",
       "    <tr>\n",
       "      <th>2</th>\n",
       "      <td>281e260f-0fc9-57e6-8c33-787dc436009f</td>\n",
       "      <td>1.689970e+09</td>\n",
       "      <td>/fluid_pressure</td>\n",
       "      <td>{'header': {'stamp': {'sec': 0, 'nanosec': 0},...</td>\n",
       "    </tr>\n",
       "    <tr>\n",
       "      <th>3</th>\n",
       "      <td>281e260f-0fc9-57e6-8c33-787dc436009f</td>\n",
       "      <td>1.689970e+09</td>\n",
       "      <td>/fluid_pressure</td>\n",
       "      <td>{'header': {'stamp': {'sec': 0, 'nanosec': 0},...</td>\n",
       "    </tr>\n",
       "    <tr>\n",
       "      <th>4</th>\n",
       "      <td>281e260f-0fc9-57e6-8c33-787dc436009f</td>\n",
       "      <td>1.689970e+09</td>\n",
       "      <td>/fluid_pressure</td>\n",
       "      <td>{'header': {'stamp': {'sec': 0, 'nanosec': 0},...</td>\n",
       "    </tr>\n",
       "    <tr>\n",
       "      <th>5</th>\n",
       "      <td>281e260f-0fc9-57e6-8c33-787dc436009f</td>\n",
       "      <td>1.689970e+09</td>\n",
       "      <td>/fluid_pressure</td>\n",
       "      <td>{'header': {'stamp': {'sec': 0, 'nanosec': 0},...</td>\n",
       "    </tr>\n",
       "    <tr>\n",
       "      <th>6</th>\n",
       "      <td>281e260f-0fc9-57e6-8c33-787dc436009f</td>\n",
       "      <td>1.689970e+09</td>\n",
       "      <td>/fluid_pressure</td>\n",
       "      <td>{'header': {'stamp': {'sec': 0, 'nanosec': 0},...</td>\n",
       "    </tr>\n",
       "  </tbody>\n",
       "</table>\n",
       "</div>"
      ],
      "text/plain": [
       "                             robolog_id  timestamp_seconds            topic  \\\n",
       "0  281e260f-0fc9-57e6-8c33-787dc436009f       1.689970e+09  /fluid_pressure   \n",
       "1  281e260f-0fc9-57e6-8c33-787dc436009f       1.689970e+09  /fluid_pressure   \n",
       "2  281e260f-0fc9-57e6-8c33-787dc436009f       1.689970e+09  /fluid_pressure   \n",
       "3  281e260f-0fc9-57e6-8c33-787dc436009f       1.689970e+09  /fluid_pressure   \n",
       "4  281e260f-0fc9-57e6-8c33-787dc436009f       1.689970e+09  /fluid_pressure   \n",
       "5  281e260f-0fc9-57e6-8c33-787dc436009f       1.689970e+09  /fluid_pressure   \n",
       "6  281e260f-0fc9-57e6-8c33-787dc436009f       1.689970e+09  /fluid_pressure   \n",
       "\n",
       "                                             message  \n",
       "0  {'header': {'stamp': {'sec': 0, 'nanosec': 0},...  \n",
       "1  {'header': {'stamp': {'sec': 0, 'nanosec': 0},...  \n",
       "2  {'header': {'stamp': {'sec': 0, 'nanosec': 0},...  \n",
       "3  {'header': {'stamp': {'sec': 0, 'nanosec': 0},...  \n",
       "4  {'header': {'stamp': {'sec': 0, 'nanosec': 0},...  \n",
       "5  {'header': {'stamp': {'sec': 0, 'nanosec': 0},...  \n",
       "6  {'header': {'stamp': {'sec': 0, 'nanosec': 0},...  "
      ]
     },
     "execution_count": 5,
     "metadata": {},
     "output_type": "execute_result"
    }
   ],
   "source": [
    "dataset = reader.read(\"sensor_msgs/msg/FluidPressure\")\n",
    "\n",
    "dataset.to_table().to_pandas()"
   ]
  },
  {
   "cell_type": "markdown",
   "id": "3774f218-216b-4224-9220-706ac1bac60f",
   "metadata": {},
   "source": [
    "The reader also supports filtering messages by a specific time range."
   ]
  },
  {
   "cell_type": "code",
   "execution_count": 6,
   "id": "3fba62e3-ea55-478a-937f-65527b23dc14",
   "metadata": {},
   "outputs": [
    {
     "data": {
      "text/html": [
       "<div>\n",
       "<style scoped>\n",
       "    .dataframe tbody tr th:only-of-type {\n",
       "        vertical-align: middle;\n",
       "    }\n",
       "\n",
       "    .dataframe tbody tr th {\n",
       "        vertical-align: top;\n",
       "    }\n",
       "\n",
       "    .dataframe thead th {\n",
       "        text-align: right;\n",
       "    }\n",
       "</style>\n",
       "<table border=\"1\" class=\"dataframe\">\n",
       "  <thead>\n",
       "    <tr style=\"text-align: right;\">\n",
       "      <th></th>\n",
       "      <th>robolog_id</th>\n",
       "      <th>timestamp_seconds</th>\n",
       "      <th>topic</th>\n",
       "      <th>message</th>\n",
       "    </tr>\n",
       "  </thead>\n",
       "  <tbody>\n",
       "    <tr>\n",
       "      <th>0</th>\n",
       "      <td>281e260f-0fc9-57e6-8c33-787dc436009f</td>\n",
       "      <td>1.689970e+09</td>\n",
       "      <td>/fluid_pressure</td>\n",
       "      <td>{'header': {'stamp': {'sec': 0, 'nanosec': 0},...</td>\n",
       "    </tr>\n",
       "  </tbody>\n",
       "</table>\n",
       "</div>"
      ],
      "text/plain": [
       "                             robolog_id  timestamp_seconds            topic  \\\n",
       "0  281e260f-0fc9-57e6-8c33-787dc436009f       1.689970e+09  /fluid_pressure   \n",
       "\n",
       "                                             message  \n",
       "0  {'header': {'stamp': {'sec': 0, 'nanosec': 0},...  "
      ]
     },
     "execution_count": 6,
     "metadata": {},
     "output_type": "execute_result"
    }
   ],
   "source": [
    "dataset = reader.read(\n",
    "    \"sensor_msgs/msg/FluidPressure\",\n",
    "    start_seconds=1689969665.5,\n",
    "    end_seconds=1689969666.5,\n",
    ")\n",
    "\n",
    "dataset.to_table().to_pandas()"
   ]
  }
 ],
 "metadata": {
  "kernelspec": {
   "display_name": "Python 3 (ipykernel)",
   "language": "python",
   "name": "python3"
  },
  "language_info": {
   "codemirror_mode": {
    "name": "ipython",
    "version": 3
   },
   "file_extension": ".py",
   "mimetype": "text/x-python",
   "name": "python",
   "nbconvert_exporter": "python",
   "pygments_lexer": "ipython3",
   "version": "3.10.12"
  }
 },
 "nbformat": 4,
 "nbformat_minor": 5
}
