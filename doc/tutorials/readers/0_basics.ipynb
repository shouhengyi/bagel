{
 "cells": [
  {
   "cell_type": "markdown",
   "id": "8015cc4c-d62f-42c7-a9af-e8888acc9389",
   "metadata": {},
   "source": [
    "# Robolog Reader Basics\n",
    "\n",
    "This tutorial covers the basics of the robolog reader. But first, let's make sure we are in the repo root directory."
   ]
  },
  {
   "cell_type": "code",
   "execution_count": 1,
   "id": "c0aa9548-55f5-4b99-9d5b-98d27fd575da",
   "metadata": {},
   "outputs": [
    {
     "name": "stdout",
     "output_type": "stream",
     "text": [
      "cd /home/shouheng/Development/repos/bagel\n"
     ]
    }
   ],
   "source": [
    "import os\n",
    "from pathlib import Path\n",
    "\n",
    "current_dir = Path.cwd()\n",
    "project_root = None\n",
    "\n",
    "while current_dir != current_dir.parent:\n",
    "    if (current_dir / '.git').exists():\n",
    "        project_root = current_dir\n",
    "        break\n",
    "    current_dir = current_dir.parent\n",
    "\n",
    "os.chdir(project_root)\n",
    "print(f\"cd {project_root!s}\")"
   ]
  },
  {
   "cell_type": "markdown",
   "id": "bf966054-ca13-4f7e-9e3a-c54d6aee85a9",
   "metadata": {},
   "source": [
    "This tutorial reads a ROS2 bag, which requires an active ROS2 environment.\n",
    "\n",
    "**Important**: Before launching JupyterLab, you must first source your ROS2 installation in the terminal. Using ROS2 Iron for example:\n",
    "\n",
    "```sh\n",
    "source /opt/ros/iron/setup.sh\n",
    "```\n",
    "\n",
    "If JupyterLab is already running, you need to close it, run the `source` command, and restart JupyterLab from the same terminal."
   ]
  },
  {
   "cell_type": "markdown",
   "id": "bc32ec2e-918e-4c1c-9bfe-b5251ba9792e",
   "metadata": {},
   "source": [
    "### Creating a Reader\n",
    "\n",
    "To create a reader, pass the robolog path to the `make_topic_message_reader` factory method. The method automatically identifies the log format (e.g., a ROS2 bag) and returns the correct reader, such as a `TopicMessageReader`."
   ]
  },
  {
   "cell_type": "code",
   "execution_count": 2,
   "id": "c6030b94-26b2-4d69-b71d-df48af6fdfa7",
   "metadata": {},
   "outputs": [],
   "source": [
    "from src.reader import factory\n",
    "\n",
    "reader = factory.make_topic_message_reader(\"doc/tutorials/data/ros2\")"
   ]
  },
  {
   "cell_type": "markdown",
   "id": "44f649bf-31e3-4d2a-908d-c5f8661af5fd",
   "metadata": {},
   "source": [
    "### Reading Metadata\n",
    "\n",
    "All robolog readers share common metadata properties across different log formats (e.g., ROS2, ROS1, PX4 ULog).\n",
    "\n",
    "For example, `reader.start_seconds` provides the start time for any supported robolog."
   ]
  },
  {
   "cell_type": "code",
   "execution_count": 3,
   "id": "ec750462-c84d-473a-aeca-012cf88d45ba",
   "metadata": {},
   "outputs": [
    {
     "name": "stdout",
     "output_type": "stream",
     "text": [
      "Robolog ID: '281e260f-0fc9-57e6-8c33-787dc436009f'\n",
      "Path: '/home/shouheng/Development/repos/bagel/doc/tutorials/data/ros2'\n",
      "Duration in seconds: 2.9702672958374023\n",
      "Number of messages: 15\n",
      "Start time: 1689969664.041739\n",
      "End time: 1689969667.0120063\n"
     ]
    }
   ],
   "source": [
    "print(f\"Robolog ID: '{reader.robolog_id}'\")\n",
    "print(f\"Path: '{reader.path}'\")\n",
    "print(f\"Duration in seconds: {reader.duration_seconds}\")\n",
    "print(f\"Number of messages: {reader.total_message_count}\")\n",
    "print(f\"Start time: {reader.start_seconds}\")\n",
    "print(f\"End time: {reader.end_seconds}\")"
   ]
  },
  {
   "cell_type": "markdown",
   "id": "732a212a-5788-4742-903a-79d41886149b",
   "metadata": {},
   "source": [
    "You can view the topics contained in this robolog."
   ]
  },
  {
   "cell_type": "code",
   "execution_count": 4,
   "id": "84bbc7e3-092a-4a86-a5d5-488a98938434",
   "metadata": {},
   "outputs": [
    {
     "data": {
      "text/plain": [
       "['/events/write_split', '/fluid_pressure', '/rosout', '/parameter_events']"
      ]
     },
     "execution_count": 4,
     "metadata": {},
     "output_type": "execute_result"
    }
   ],
   "source": [
    "reader.topics"
   ]
  },
  {
   "cell_type": "markdown",
   "id": "7e8bd5e2-f704-4efb-916b-874af238aa54",
   "metadata": {},
   "source": [
    "You can also view the message type of each topic."
   ]
  },
  {
   "cell_type": "code",
   "execution_count": 5,
   "id": "6f118682-47ff-4d26-ae10-3fbd61f9c121",
   "metadata": {},
   "outputs": [
    {
     "data": {
      "text/plain": [
       "{'/fluid_pressure': 'sensor_msgs/msg/FluidPressure',\n",
       " '/parameter_events': 'rcl_interfaces/msg/ParameterEvent',\n",
       " '/events/write_split': 'rosbag2_interfaces/msg/WriteSplitEvent',\n",
       " '/rosout': 'rcl_interfaces/msg/Log'}"
      ]
     },
     "execution_count": 5,
     "metadata": {},
     "output_type": "execute_result"
    }
   ],
   "source": [
    "reader.type_names"
   ]
  },
  {
   "cell_type": "markdown",
   "id": "b23fe070-2baa-4aa1-b11a-60ab4d4a84b0",
   "metadata": {},
   "source": [
    "... and the number of messages of each topic."
   ]
  },
  {
   "cell_type": "code",
   "execution_count": 6,
   "id": "f6008078-cbce-40b4-be5b-2273058dcc92",
   "metadata": {},
   "outputs": [
    {
     "data": {
      "text/plain": [
       "{'/fluid_pressure': 7,\n",
       " '/parameter_events': 1,\n",
       " '/events/write_split': 0,\n",
       " '/rosout': 7}"
      ]
     },
     "execution_count": 6,
     "metadata": {},
     "output_type": "execute_result"
    }
   ],
   "source": [
    "reader.message_counts"
   ]
  },
  {
   "cell_type": "markdown",
   "id": "67997a36-eee1-4570-9b11-fa61a588b62b",
   "metadata": {},
   "source": [
    "### Reading Logging Messages\n",
    "\n",
    "The reader provides a convenient property to access the robolog's logging messages. In this example, we visualize them as a pandas DataFrame."
   ]
  },
  {
   "cell_type": "code",
   "execution_count": 7,
   "id": "b9a3820a-c9a3-42b4-afcd-903e9f35cf03",
   "metadata": {
    "scrolled": true
   },
   "outputs": [
    {
     "data": {
      "text/html": [
       "<div>\n",
       "<style scoped>\n",
       "    .dataframe tbody tr th:only-of-type {\n",
       "        vertical-align: middle;\n",
       "    }\n",
       "\n",
       "    .dataframe tbody tr th {\n",
       "        vertical-align: top;\n",
       "    }\n",
       "\n",
       "    .dataframe thead th {\n",
       "        text-align: right;\n",
       "    }\n",
       "</style>\n",
       "<table border=\"1\" class=\"dataframe\">\n",
       "  <thead>\n",
       "    <tr style=\"text-align: right;\">\n",
       "      <th></th>\n",
       "      <th>robolog_id</th>\n",
       "      <th>timestamp_seconds</th>\n",
       "      <th>level</th>\n",
       "      <th>message</th>\n",
       "      <th>numeric_level</th>\n",
       "      <th>topic</th>\n",
       "      <th>name</th>\n",
       "      <th>file</th>\n",
       "      <th>function</th>\n",
       "      <th>line</th>\n",
       "    </tr>\n",
       "  </thead>\n",
       "  <tbody>\n",
       "    <tr>\n",
       "      <th>0</th>\n",
       "      <td>281e260f-0fc9-57e6-8c33-787dc436009f</td>\n",
       "      <td>1.689970e+09</td>\n",
       "      <td>INFO</td>\n",
       "      <td>Press SPACE for pausing/resuming</td>\n",
       "      <td>20</td>\n",
       "      <td>/rosout</td>\n",
       "      <td>rosbag2_recorder</td>\n",
       "      <td>./src/rosbag2_transport/recorder.cpp</td>\n",
       "      <td>RecorderImpl</td>\n",
       "      <td>171</td>\n",
       "    </tr>\n",
       "    <tr>\n",
       "      <th>1</th>\n",
       "      <td>281e260f-0fc9-57e6-8c33-787dc436009f</td>\n",
       "      <td>1.689970e+09</td>\n",
       "      <td>INFO</td>\n",
       "      <td>Event publisher thread: Starting</td>\n",
       "      <td>20</td>\n",
       "      <td>/rosout</td>\n",
       "      <td>rosbag2_recorder</td>\n",
       "      <td>./src/rosbag2_transport/recorder.cpp</td>\n",
       "      <td>event_publisher_thread_main</td>\n",
       "      <td>304</td>\n",
       "    </tr>\n",
       "    <tr>\n",
       "      <th>2</th>\n",
       "      <td>281e260f-0fc9-57e6-8c33-787dc436009f</td>\n",
       "      <td>1.689970e+09</td>\n",
       "      <td>INFO</td>\n",
       "      <td>Listening for topics...</td>\n",
       "      <td>20</td>\n",
       "      <td>/rosout</td>\n",
       "      <td>rosbag2_recorder</td>\n",
       "      <td>./src/rosbag2_transport/recorder.cpp</td>\n",
       "      <td>record</td>\n",
       "      <td>293</td>\n",
       "    </tr>\n",
       "    <tr>\n",
       "      <th>3</th>\n",
       "      <td>281e260f-0fc9-57e6-8c33-787dc436009f</td>\n",
       "      <td>1.689970e+09</td>\n",
       "      <td>INFO</td>\n",
       "      <td>Subscribed to topic '/rosout'</td>\n",
       "      <td>20</td>\n",
       "      <td>/rosout</td>\n",
       "      <td>rosbag2_recorder</td>\n",
       "      <td>./src/rosbag2_transport/recorder.cpp</td>\n",
       "      <td>subscribe_topic</td>\n",
       "      <td>433</td>\n",
       "    </tr>\n",
       "    <tr>\n",
       "      <th>4</th>\n",
       "      <td>281e260f-0fc9-57e6-8c33-787dc436009f</td>\n",
       "      <td>1.689970e+09</td>\n",
       "      <td>INFO</td>\n",
       "      <td>Subscribed to topic '/events/write_split'</td>\n",
       "      <td>20</td>\n",
       "      <td>/rosout</td>\n",
       "      <td>rosbag2_recorder</td>\n",
       "      <td>./src/rosbag2_transport/recorder.cpp</td>\n",
       "      <td>subscribe_topic</td>\n",
       "      <td>433</td>\n",
       "    </tr>\n",
       "    <tr>\n",
       "      <th>5</th>\n",
       "      <td>281e260f-0fc9-57e6-8c33-787dc436009f</td>\n",
       "      <td>1.689970e+09</td>\n",
       "      <td>INFO</td>\n",
       "      <td>Subscribed to topic '/parameter_events'</td>\n",
       "      <td>20</td>\n",
       "      <td>/rosout</td>\n",
       "      <td>rosbag2_recorder</td>\n",
       "      <td>./src/rosbag2_transport/recorder.cpp</td>\n",
       "      <td>subscribe_topic</td>\n",
       "      <td>433</td>\n",
       "    </tr>\n",
       "    <tr>\n",
       "      <th>6</th>\n",
       "      <td>281e260f-0fc9-57e6-8c33-787dc436009f</td>\n",
       "      <td>1.689970e+09</td>\n",
       "      <td>INFO</td>\n",
       "      <td>Subscribed to topic '/fluid_pressure'</td>\n",
       "      <td>20</td>\n",
       "      <td>/rosout</td>\n",
       "      <td>rosbag2_recorder</td>\n",
       "      <td>./src/rosbag2_transport/recorder.cpp</td>\n",
       "      <td>subscribe_topic</td>\n",
       "      <td>433</td>\n",
       "    </tr>\n",
       "  </tbody>\n",
       "</table>\n",
       "</div>"
      ],
      "text/plain": [
       "                             robolog_id  timestamp_seconds level  \\\n",
       "0  281e260f-0fc9-57e6-8c33-787dc436009f       1.689970e+09  INFO   \n",
       "1  281e260f-0fc9-57e6-8c33-787dc436009f       1.689970e+09  INFO   \n",
       "2  281e260f-0fc9-57e6-8c33-787dc436009f       1.689970e+09  INFO   \n",
       "3  281e260f-0fc9-57e6-8c33-787dc436009f       1.689970e+09  INFO   \n",
       "4  281e260f-0fc9-57e6-8c33-787dc436009f       1.689970e+09  INFO   \n",
       "5  281e260f-0fc9-57e6-8c33-787dc436009f       1.689970e+09  INFO   \n",
       "6  281e260f-0fc9-57e6-8c33-787dc436009f       1.689970e+09  INFO   \n",
       "\n",
       "                                     message  numeric_level    topic  \\\n",
       "0           Press SPACE for pausing/resuming             20  /rosout   \n",
       "1           Event publisher thread: Starting             20  /rosout   \n",
       "2                    Listening for topics...             20  /rosout   \n",
       "3              Subscribed to topic '/rosout'             20  /rosout   \n",
       "4  Subscribed to topic '/events/write_split'             20  /rosout   \n",
       "5    Subscribed to topic '/parameter_events'             20  /rosout   \n",
       "6      Subscribed to topic '/fluid_pressure'             20  /rosout   \n",
       "\n",
       "               name                                  file  \\\n",
       "0  rosbag2_recorder  ./src/rosbag2_transport/recorder.cpp   \n",
       "1  rosbag2_recorder  ./src/rosbag2_transport/recorder.cpp   \n",
       "2  rosbag2_recorder  ./src/rosbag2_transport/recorder.cpp   \n",
       "3  rosbag2_recorder  ./src/rosbag2_transport/recorder.cpp   \n",
       "4  rosbag2_recorder  ./src/rosbag2_transport/recorder.cpp   \n",
       "5  rosbag2_recorder  ./src/rosbag2_transport/recorder.cpp   \n",
       "6  rosbag2_recorder  ./src/rosbag2_transport/recorder.cpp   \n",
       "\n",
       "                      function  line  \n",
       "0                 RecorderImpl   171  \n",
       "1  event_publisher_thread_main   304  \n",
       "2                       record   293  \n",
       "3              subscribe_topic   433  \n",
       "4              subscribe_topic   433  \n",
       "5              subscribe_topic   433  \n",
       "6              subscribe_topic   433  "
      ]
     },
     "execution_count": 7,
     "metadata": {},
     "output_type": "execute_result"
    }
   ],
   "source": [
    "import pandas as pd\n",
    "\n",
    "pd.DataFrame([msg.to_dict() for msg in reader.logging_messages])"
   ]
  },
  {
   "cell_type": "markdown",
   "id": "9ca3860c-fecc-43ba-957e-a7b5042daa20",
   "metadata": {},
   "source": [
    "### Reading All Metadata\n",
    "\n",
    "You can also read all metadata in this robolog as a JSON-serializable dictionary."
   ]
  },
  {
   "cell_type": "code",
   "execution_count": 8,
   "id": "e1c63456",
   "metadata": {},
   "outputs": [
    {
     "data": {
      "text/plain": [
       "{'bag_size': 20642,\n",
       " 'compression_format': '',\n",
       " 'compression_mode': '',\n",
       " 'message_count': 15,\n",
       " 'relative_file_paths': ['fluid_message_0.mcap'],\n",
       " 'storage_identifier': 'mcap',\n",
       " 'version': 7,\n",
       " 'files': [{'message_count': 15,\n",
       "   'path': 'fluid_message_0.mcap',\n",
       "   'starting_time_seconds': 1689969664.041739,\n",
       "   'duration_seconds': 2.970267}],\n",
       " 'duration_seconds': 2.97026721,\n",
       " 'starting_time_seconds': 1689969664.041739,\n",
       " 'topics_with_message_count': [{'message_count': 7,\n",
       "   'topic_metadata': {'name': '/fluid_pressure',\n",
       "    'offered_qos_profiles': '- history: 3\\n  depth: 0\\n  reliability: 1\\n  durability: 2\\n  deadline:\\n    sec: 9223372036\\n    nsec: 854775807\\n  lifespan:\\n    sec: 9223372036\\n    nsec: 854775807\\n  liveliness: 1\\n  liveliness_lease_duration:\\n    sec: 9223372036\\n    nsec: 854775807\\n  avoid_ros_namespace_conventions: false',\n",
       "    'serialization_format': 'cdr',\n",
       "    'type': 'sensor_msgs/msg/FluidPressure',\n",
       "    'type_description_hash': 'RIHS01_22dfb2b145a0bd5a31a1ac3882a1b32148b51d9b2f3bab250290d66f3595bc32'}},\n",
       "  {'message_count': 1,\n",
       "   'topic_metadata': {'name': '/parameter_events',\n",
       "    'offered_qos_profiles': '- history: 3\\n  depth: 0\\n  reliability: 1\\n  durability: 2\\n  deadline:\\n    sec: 9223372036\\n    nsec: 854775807\\n  lifespan:\\n    sec: 9223372036\\n    nsec: 854775807\\n  liveliness: 1\\n  liveliness_lease_duration:\\n    sec: 9223372036\\n    nsec: 854775807\\n  avoid_ros_namespace_conventions: false',\n",
       "    'serialization_format': 'cdr',\n",
       "    'type': 'rcl_interfaces/msg/ParameterEvent',\n",
       "    'type_description_hash': 'RIHS01_043e627780fcad87a22d225bc2a037361dba713fca6a6b9f4b869a5aa0393204'}},\n",
       "  {'message_count': 0,\n",
       "   'topic_metadata': {'name': '/events/write_split',\n",
       "    'offered_qos_profiles': '- history: 3\\n  depth: 0\\n  reliability: 1\\n  durability: 2\\n  deadline:\\n    sec: 9223372036\\n    nsec: 854775807\\n  lifespan:\\n    sec: 9223372036\\n    nsec: 854775807\\n  liveliness: 1\\n  liveliness_lease_duration:\\n    sec: 9223372036\\n    nsec: 854775807\\n  avoid_ros_namespace_conventions: false',\n",
       "    'serialization_format': 'cdr',\n",
       "    'type': 'rosbag2_interfaces/msg/WriteSplitEvent',\n",
       "    'type_description_hash': 'RIHS01_5ef58f7106a5cff8f5a794028c18117ee21015850ddcc567df449f41932960f8'}},\n",
       "  {'message_count': 7,\n",
       "   'topic_metadata': {'name': '/rosout',\n",
       "    'offered_qos_profiles': '- history: 3\\n  depth: 0\\n  reliability: 1\\n  durability: 1\\n  deadline:\\n    sec: 9223372036\\n    nsec: 854775807\\n  lifespan:\\n    sec: 10\\n    nsec: 0\\n  liveliness: 1\\n  liveliness_lease_duration:\\n    sec: 9223372036\\n    nsec: 854775807\\n  avoid_ros_namespace_conventions: false',\n",
       "    'serialization_format': 'cdr',\n",
       "    'type': 'rcl_interfaces/msg/Log',\n",
       "    'type_description_hash': 'RIHS01_e28ce254ca8abc06abf92773b74602cdbf116ed34fbaf294fb9f81da9f318eac'}}]}"
      ]
     },
     "execution_count": 8,
     "metadata": {},
     "output_type": "execute_result"
    }
   ],
   "source": [
    "reader.metadata"
   ]
  }
 ],
 "metadata": {
  "kernelspec": {
   "display_name": "Python 3 (ipykernel)",
   "language": "python",
   "name": "python3"
  },
  "language_info": {
   "codemirror_mode": {
    "name": "ipython",
    "version": 3
   },
   "file_extension": ".py",
   "mimetype": "text/x-python",
   "name": "python",
   "nbconvert_exporter": "python",
   "pygments_lexer": "ipython3",
   "version": "3.10.12"
  }
 },
 "nbformat": 4,
 "nbformat_minor": 5
}
