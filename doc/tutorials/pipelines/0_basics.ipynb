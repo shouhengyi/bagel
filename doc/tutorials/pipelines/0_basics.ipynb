{
 "cells": [
  {
   "cell_type": "markdown",
   "id": "c2868e03-5594-4ee3-b1b1-8fc427ff02aa",
   "metadata": {},
   "source": [
    "# Data Pipeline: Scalar Acceleration Analysis from PX4 ULog\n",
    "\n",
    "This tutorial outlines a data pipeline designed to calculate scalar acceleration from PX4 ULog files and compute its summary statistics.\n",
    "\n",
    "We can analyze a drone's flight performance and identify potential issues with erratic movements."
   ]
  },
  {
   "cell_type": "code",
   "execution_count": 1,
   "id": "e5915729-e7b3-492f-af72-f75fec0f4210",
   "metadata": {},
   "outputs": [],
   "source": [
    "import os\n",
    "from pathlib import Path\n",
    "\n",
    "current_dir = Path.cwd()\n",
    "project_root = None\n",
    "\n",
    "while current_dir != current_dir.parent:\n",
    "    if (current_dir / '.git').exists():\n",
    "        project_root = current_dir\n",
    "        break\n",
    "    current_dir = current_dir.parent\n",
    "\n",
    "os.chdir(project_root)"
   ]
  },
  {
   "cell_type": "markdown",
   "id": "edfb1256-e938-4657-966e-1d8828425c10",
   "metadata": {},
   "source": [
    "We use the `run` command to execute a data pipeline on a robolog."
   ]
  },
  {
   "cell_type": "code",
   "execution_count": 2,
   "id": "ffaa0840-343c-4615-8be8-e2c12ff88d03",
   "metadata": {
    "scrolled": true
   },
   "outputs": [
    {
     "name": "stdout",
     "output_type": "stream",
     "text": [
      "\u001b[1m                                                                                \u001b[0m\n",
      "\u001b[1m \u001b[0m\u001b[1;33mUsage: \u001b[0m\u001b[1mmain.py run [OPTIONS] PIPELINE_PATH ROBOLOG_PATH\u001b[0m\u001b[1m                       \u001b[0m\u001b[1m \u001b[0m\n",
      "\u001b[1m                                                                                \u001b[0m\n",
      " Run data pipeline defined in the YAML file on the provided robolog.            \n",
      "                                                                                \n",
      "                                                                                \n",
      "\u001b[2m╭─\u001b[0m\u001b[2m Arguments \u001b[0m\u001b[2m─────────────────────────────────────────────────────────────────\u001b[0m\u001b[2m─╮\u001b[0m\n",
      "\u001b[2m│\u001b[0m \u001b[31m*\u001b[0m    pipeline_path      \u001b[1;33mPATH\u001b[0m  Path to the pipeline definition YAML file      \u001b[2m│\u001b[0m\n",
      "\u001b[2m│\u001b[0m                               \u001b[2;31m[required]                               \u001b[0m      \u001b[2m│\u001b[0m\n",
      "\u001b[2m│\u001b[0m \u001b[31m*\u001b[0m    robolog_path       \u001b[1;33mPATH\u001b[0m  Path to the robolog \u001b[2;31m[required]\u001b[0m                 \u001b[2m│\u001b[0m\n",
      "\u001b[2m╰──────────────────────────────────────────────────────────────────────────────╯\u001b[0m\n",
      "\u001b[2m╭─\u001b[0m\u001b[2m Options \u001b[0m\u001b[2m───────────────────────────────────────────────────────────────────\u001b[0m\u001b[2m─╮\u001b[0m\n",
      "\u001b[2m│\u001b[0m \u001b[1;36m-\u001b[0m\u001b[1;36m-start\u001b[0m\u001b[1;36m-seconds\u001b[0m                    \u001b[1;33mFLOAT              \u001b[0m  Start time in        \u001b[2m│\u001b[0m\n",
      "\u001b[2m│\u001b[0m                                                         seconds              \u001b[2m│\u001b[0m\n",
      "\u001b[2m│\u001b[0m                                                         \u001b[2m[default: None]     \u001b[0m \u001b[2m│\u001b[0m\n",
      "\u001b[2m│\u001b[0m \u001b[1;36m-\u001b[0m\u001b[1;36m-end\u001b[0m\u001b[1;36m-seconds\u001b[0m                      \u001b[1;33mFLOAT              \u001b[0m  End time in seconds  \u001b[2m│\u001b[0m\n",
      "\u001b[2m│\u001b[0m                                                         \u001b[2m[default: None]    \u001b[0m  \u001b[2m│\u001b[0m\n",
      "\u001b[2m│\u001b[0m \u001b[1;36m-\u001b[0m\u001b[1;36m-output\u001b[0m                           \u001b[1;2;33m[\u001b[0m\u001b[1;33mparquet\u001b[0m\u001b[1;2;33m|\u001b[0m\u001b[1;33mcsv\u001b[0m\u001b[1;2;33m|\u001b[0m\u001b[1;33mjsonl\u001b[0m\u001b[1;2;33m]\u001b[0m  Output file format   \u001b[2m│\u001b[0m\n",
      "\u001b[2m│\u001b[0m                                                         for saved DataFrames \u001b[2m│\u001b[0m\n",
      "\u001b[2m│\u001b[0m                                                         \u001b[2m[default: parquet]  \u001b[0m \u001b[2m│\u001b[0m\n",
      "\u001b[2m│\u001b[0m \u001b[1;36m-\u001b[0m\u001b[1;36m-dry\u001b[0m\u001b[1;36m-run\u001b[0m          \u001b[1;35m-\u001b[0m\u001b[1;35m-no\u001b[0m\u001b[1;35m-dry-run\u001b[0m    \u001b[1;33m                   \u001b[0m  If true, execute the \u001b[2m│\u001b[0m\n",
      "\u001b[2m│\u001b[0m                                                         pipeline without     \u001b[2m│\u001b[0m\n",
      "\u001b[2m│\u001b[0m                                                         saving results       \u001b[2m│\u001b[0m\n",
      "\u001b[2m│\u001b[0m                                                         \u001b[2m[default:           \u001b[0m \u001b[2m│\u001b[0m\n",
      "\u001b[2m│\u001b[0m                                                         \u001b[2mno-dry-run]         \u001b[0m \u001b[2m│\u001b[0m\n",
      "\u001b[2m│\u001b[0m \u001b[1;36m-\u001b[0m\u001b[1;36m-help\u001b[0m                             \u001b[1;33m                   \u001b[0m  Show this message    \u001b[2m│\u001b[0m\n",
      "\u001b[2m│\u001b[0m                                                         and exit.            \u001b[2m│\u001b[0m\n",
      "\u001b[2m╰──────────────────────────────────────────────────────────────────────────────╯\u001b[0m\n",
      "\n"
     ]
    }
   ],
   "source": [
    "!poetry run python3 main.py run --help"
   ]
  },
  {
   "cell_type": "markdown",
   "id": "965060c5-f9b9-4f3f-9f40-ecc644899192",
   "metadata": {},
   "source": [
    "Let's inspect the pipeline definition, which is a YAML file with a specific structure."
   ]
  },
  {
   "cell_type": "code",
   "execution_count": 3,
   "id": "ee9239c4-110b-41cc-8db9-3312546672c4",
   "metadata": {},
   "outputs": [
    {
     "name": "stdout",
     "output_type": "stream",
     "text": [
      "extract_topic:\n",
      "  - name: raw_messages\n",
      "    topics:\n",
      "      - vehicle_acceleration_0\n",
      "\n",
      "transform_dataframe:\n",
      "  - name: acceleration\n",
      "    sql: |\n",
      "      SELECT\n",
      "        \"vehicle_acceleration_0\".\"xyz[0]\" AS x,\n",
      "        \"vehicle_acceleration_0\".\"xyz[1]\" AS y,\n",
      "        \"vehicle_acceleration_0\".\"xyz[2]\" AS z\n",
      "      FROM raw_messages\n",
      "\n",
      "  - name: scalar\n",
      "    sql: |\n",
      "      SELECT\n",
      "        SQRT(x ** 2 + y ** 2 + z ** 2) AS magnitude\n",
      "      FROM acceleration\n",
      "\n",
      "  - name: statistics\n",
      "    sql: |\n",
      "      SELECT\n",
      "        MIN(magnitude) AS min_magnitude,\n",
      "        MAX(magnitude) AS max_magnitude,\n",
      "        AVG(magnitude) AS avg_magnitude\n",
      "      FROM scalar\n",
      "\n",
      "save_dataframe:\n",
      "  - acceleration\n",
      "  - scalar\n",
      "  - statistics\n"
     ]
    }
   ],
   "source": [
    "!cat ./doc/tutorials/pipelines/acceleration.yaml"
   ]
  },
  {
   "cell_type": "markdown",
   "id": "1a46717c-5c54-4746-824d-e89edb25fbfa",
   "metadata": {},
   "source": [
    "### Pipeline Definition Breakdown\n",
    "\n",
    "This section details each stage of the data processing pipeline. The pipeline is defined by a series of operators that extract, transform, and save the data.\n",
    "\n",
    "#### 1\\. `extract_topic`\n",
    "\n",
    "First, the `extract_topic` operator reads messages from the `vehicle_acceleration_0` topic. The resulting data is loaded into a DataFrame named `raw_messages`.\n",
    "\n",
    "```yaml\n",
    "extract_topic:\n",
    "  - name: raw_messages\n",
    "    topics:\n",
    "      - vehicle_acceleration_0\n",
    "```\n",
    "\n",
    "#### 2\\. `transform_dataframe`\n",
    "\n",
    "Next, the `transform_dataframe` operator executes a sequence of three SQL transformations. This operator takes the `raw_messages` DataFrame as input and generates three distinct DataFrames: `acceleration`, `scalar`, and `statistics`.\n",
    "\n",
    "```yaml\n",
    "transform_dataframe:\n",
    "  - name: acceleration\n",
    "    sql: |\n",
    "      SELECT\n",
    "        \"vehicle_acceleration_0\".\"xyz[0]\" AS x,\n",
    "        \"vehicle_acceleration_0\".\"xyz[1]\" AS y,\n",
    "        \"vehicle_acceleration_0\".\"xyz[2]\" AS z\n",
    "      FROM raw_messages\n",
    "\n",
    "  - name: scalar\n",
    "    sql: |\n",
    "      SELECT\n",
    "        SQRT(x * x + y * y + z * z) AS magnitude\n",
    "      FROM acceleration\n",
    "\n",
    "  - name: statistics\n",
    "    sql: |\n",
    "      SELECT\n",
    "        MIN(magnitude) AS min_magnitude,\n",
    "        MAX(magnitude) AS max_magnitude,\n",
    "        AVG(magnitude) AS avg_magnitude\n",
    "      FROM scalar\n",
    "```\n",
    "\n",
    "The transformation process occurs in three steps:\n",
    "\n",
    "1.  **Creating `acceleration`**: The first transformation extracts the `xyz[0]`, `xyz[1]`, and `xyz[2]` fields from the initial `raw_messages` DataFrame. It renames these fields to `x`, `y`, and `z`, respectively, creating the `acceleration` DataFrame.\n",
    "2.  **Creating `scalar`**: The second transformation takes the `acceleration` DataFrame and calculates the scalar acceleration (Euclidean norm) for each row. The resulting column is named `magnitude`, which produces the `scalar` DataFrame.\n",
    "3.  **Creating `statistics`**: The final transformation calculates the minimum, maximum, and average values from the `magnitude` column in the `scalar` DataFrame. This produces the final `statistics` DataFrame.\n",
    "\n",
    "#### 3\\. `save_dataframe`\n",
    "\n",
    "Finally, the `save_dataframe` operator saves the `acceleration`, `scalar`, and `statistics` DataFrames to local storage.\n",
    "\n",
    "```yaml\n",
    "save_dataframe:\n",
    "  - acceleration\n",
    "  - scalar\n",
    "  - statistics\n",
    "```"
   ]
  },
  {
   "cell_type": "markdown",
   "id": "875f35aa-6a64-46e9-bd88-198e3e7a741f",
   "metadata": {},
   "source": [
    "### Let's run this pipeline."
   ]
  },
  {
   "cell_type": "code",
   "execution_count": 4,
   "id": "f5f54a47-b71b-45df-908f-93639614ed12",
   "metadata": {},
   "outputs": [
    {
     "name": "stdout",
     "output_type": "stream",
     "text": [
      "\u001b[2K\u001b[32m⢋⠁\u001b[0m Extracting messages from 1 topics into \u001b[1mraw_messages\u001b[0m                            \n",
      "\u001b[1A\u001b[2K✅ Extracted messages from 1 topics into \u001b[1mraw_messages\u001b[0m                           \n",
      "\u001b[?25l\u001b[32m⢀⠀\u001b[0m Writing SQL query result into \u001b[1macceleration\u001b[0m                                   \n",
      "\u001b[1A\u001b[2K✅ Wrote SQL query result into \u001b[1macceleration\u001b[0m                                     \n",
      "\u001b[?25l\u001b[32m⢀⠀\u001b[0m Writing SQL query result into \u001b[1mscalar\u001b[0m                                         \n",
      "\u001b[1A\u001b[2K✅ Wrote SQL query result into \u001b[1mscalar\u001b[0m                                           \n",
      "\u001b[?25l\u001b[32m⢀⠀\u001b[0m Writing SQL query result into \u001b[1mstatistics\u001b[0m                                     \n",
      "\u001b[1A\u001b[2K✅ Wrote SQL query result into \u001b[1mstatistics\u001b[0m                                       \n",
      "\u001b[2K\u001b[32m⢋⠠\u001b[0m Saving \u001b[1macceleration\u001b[0m to disk                                                    \n",
      "\u001b[1A\u001b[2K💾 Saved \u001b[1macceleration\u001b[0m to                                                        \n",
      "/home/shouheng/.bagel/datasets/acceleration/datestr=1969-12-31/snippet_bd63df32_\n",
      "0.364_387.996.parquet                                                           \n",
      "\u001b[2K\u001b[32m⠈⡙\u001b[0m Saving \u001b[1mscalar\u001b[0m to disk                                                          \n",
      "\u001b[1A\u001b[2K💾 Saved \u001b[1mscalar\u001b[0m to                                                              \n",
      "/home/shouheng/.bagel/datasets/scalar/datestr=1969-12-31/snippet_bd63df32_0.364_\n",
      "387.996.parquet                                                                 \n",
      "\u001b[2K\u001b[32m⠅⡘\u001b[0m Saving \u001b[1mstatistics\u001b[0m to disk                                                      \n",
      "\u001b[1A\u001b[2K💾 Saved \u001b[1mstatistics\u001b[0m to                                                          \n",
      "/home/shouheng/.bagel/datasets/statistics/datestr=1969-12-31/snippet_bd63df32_0.\n",
      "364_387.996.parquet                                                             \n"
     ]
    }
   ],
   "source": [
    "!poetry run python3 main.py run ./doc/tutorials/pipelines/acceleration.yaml ./doc/tutorials/data/px4.ulg"
   ]
  },
  {
   "cell_type": "code",
   "execution_count": 5,
   "id": "8d0e61e9-ced6-49db-9c52-166643b75874",
   "metadata": {},
   "outputs": [
    {
     "data": {
      "text/html": [
       "<div>\n",
       "<style scoped>\n",
       "    .dataframe tbody tr th:only-of-type {\n",
       "        vertical-align: middle;\n",
       "    }\n",
       "\n",
       "    .dataframe tbody tr th {\n",
       "        vertical-align: top;\n",
       "    }\n",
       "\n",
       "    .dataframe thead th {\n",
       "        text-align: right;\n",
       "    }\n",
       "</style>\n",
       "<table border=\"1\" class=\"dataframe\">\n",
       "  <thead>\n",
       "    <tr style=\"text-align: right;\">\n",
       "      <th></th>\n",
       "      <th>x</th>\n",
       "      <th>y</th>\n",
       "      <th>z</th>\n",
       "    </tr>\n",
       "  </thead>\n",
       "  <tbody>\n",
       "    <tr>\n",
       "      <th>0</th>\n",
       "      <td>-0.006750</td>\n",
       "      <td>-0.002023</td>\n",
       "      <td>-7.339376</td>\n",
       "    </tr>\n",
       "    <tr>\n",
       "      <th>1</th>\n",
       "      <td>-0.007663</td>\n",
       "      <td>-0.001992</td>\n",
       "      <td>-9.797578</td>\n",
       "    </tr>\n",
       "    <tr>\n",
       "      <th>2</th>\n",
       "      <td>-0.006243</td>\n",
       "      <td>0.000062</td>\n",
       "      <td>-9.807760</td>\n",
       "    </tr>\n",
       "    <tr>\n",
       "      <th>3</th>\n",
       "      <td>-0.006263</td>\n",
       "      <td>0.001895</td>\n",
       "      <td>-9.802317</td>\n",
       "    </tr>\n",
       "    <tr>\n",
       "      <th>4</th>\n",
       "      <td>-0.007040</td>\n",
       "      <td>-0.000961</td>\n",
       "      <td>-9.805594</td>\n",
       "    </tr>\n",
       "    <tr>\n",
       "      <th>...</th>\n",
       "      <td>...</td>\n",
       "      <td>...</td>\n",
       "      <td>...</td>\n",
       "    </tr>\n",
       "    <tr>\n",
       "      <th>7749</th>\n",
       "      <td>0.073445</td>\n",
       "      <td>-0.003988</td>\n",
       "      <td>-9.834057</td>\n",
       "    </tr>\n",
       "    <tr>\n",
       "      <th>7750</th>\n",
       "      <td>0.073092</td>\n",
       "      <td>-0.001574</td>\n",
       "      <td>-9.833152</td>\n",
       "    </tr>\n",
       "    <tr>\n",
       "      <th>7751</th>\n",
       "      <td>0.088183</td>\n",
       "      <td>-0.000450</td>\n",
       "      <td>-9.842745</td>\n",
       "    </tr>\n",
       "    <tr>\n",
       "      <th>7752</th>\n",
       "      <td>0.084393</td>\n",
       "      <td>0.000348</td>\n",
       "      <td>-9.843134</td>\n",
       "    </tr>\n",
       "    <tr>\n",
       "      <th>7753</th>\n",
       "      <td>0.081907</td>\n",
       "      <td>-0.003725</td>\n",
       "      <td>-9.862018</td>\n",
       "    </tr>\n",
       "  </tbody>\n",
       "</table>\n",
       "<p>7754 rows × 3 columns</p>\n",
       "</div>"
      ],
      "text/plain": [
       "             x         y         z\n",
       "0    -0.006750 -0.002023 -7.339376\n",
       "1    -0.007663 -0.001992 -9.797578\n",
       "2    -0.006243  0.000062 -9.807760\n",
       "3    -0.006263  0.001895 -9.802317\n",
       "4    -0.007040 -0.000961 -9.805594\n",
       "...        ...       ...       ...\n",
       "7749  0.073445 -0.003988 -9.834057\n",
       "7750  0.073092 -0.001574 -9.833152\n",
       "7751  0.088183 -0.000450 -9.842745\n",
       "7752  0.084393  0.000348 -9.843134\n",
       "7753  0.081907 -0.003725 -9.862018\n",
       "\n",
       "[7754 rows x 3 columns]"
      ]
     },
     "execution_count": 5,
     "metadata": {},
     "output_type": "execute_result"
    }
   ],
   "source": [
    "import pandas as pd\n",
    "\n",
    "df_acceleration = pd.read_parquet(\"/home/shouheng/.bagel/datasets/acceleration/datestr=1969-12-31/snippet_bd63df32_0.364_387.996.parquet\")\n",
    "\n",
    "df_acceleration"
   ]
  },
  {
   "cell_type": "code",
   "execution_count": 6,
   "id": "c3ba9aaa-f175-4c7a-8614-9f5fd3593201",
   "metadata": {},
   "outputs": [
    {
     "data": {
      "text/plain": [
       "<Axes: >"
      ]
     },
     "execution_count": 6,
     "metadata": {},
     "output_type": "execute_result"
    },
    {
     "data": {
      "image/png": "[encoded data removed]",
      "text/plain": [
       "<Figure size 640x480 with 1 Axes>"
      ]
     },
     "metadata": {},
     "output_type": "display_data"
    }
   ],
   "source": [
    "df_acceleration.plot()"
   ]
  },
  {
   "cell_type": "code",
   "execution_count": 7,
   "id": "d154beaf-67fc-4e45-9a09-5e43d5a193d1",
   "metadata": {},
   "outputs": [
    {
     "data": {
      "text/html": [
       "<div>\n",
       "<style scoped>\n",
       "    .dataframe tbody tr th:only-of-type {\n",
       "        vertical-align: middle;\n",
       "    }\n",
       "\n",
       "    .dataframe tbody tr th {\n",
       "        vertical-align: top;\n",
       "    }\n",
       "\n",
       "    .dataframe thead th {\n",
       "        text-align: right;\n",
       "    }\n",
       "</style>\n",
       "<table border=\"1\" class=\"dataframe\">\n",
       "  <thead>\n",
       "    <tr style=\"text-align: right;\">\n",
       "      <th></th>\n",
       "      <th>magnitude</th>\n",
       "    </tr>\n",
       "  </thead>\n",
       "  <tbody>\n",
       "    <tr>\n",
       "      <th>0</th>\n",
       "      <td>7.339379</td>\n",
       "    </tr>\n",
       "    <tr>\n",
       "      <th>1</th>\n",
       "      <td>9.797581</td>\n",
       "    </tr>\n",
       "    <tr>\n",
       "      <th>2</th>\n",
       "      <td>9.807762</td>\n",
       "    </tr>\n",
       "    <tr>\n",
       "      <th>3</th>\n",
       "      <td>9.802319</td>\n",
       "    </tr>\n",
       "    <tr>\n",
       "      <th>4</th>\n",
       "      <td>9.805597</td>\n",
       "    </tr>\n",
       "    <tr>\n",
       "      <th>...</th>\n",
       "      <td>...</td>\n",
       "    </tr>\n",
       "    <tr>\n",
       "      <th>7749</th>\n",
       "      <td>9.834332</td>\n",
       "    </tr>\n",
       "    <tr>\n",
       "      <th>7750</th>\n",
       "      <td>9.833424</td>\n",
       "    </tr>\n",
       "    <tr>\n",
       "      <th>7751</th>\n",
       "      <td>9.843140</td>\n",
       "    </tr>\n",
       "    <tr>\n",
       "      <th>7752</th>\n",
       "      <td>9.843496</td>\n",
       "    </tr>\n",
       "    <tr>\n",
       "      <th>7753</th>\n",
       "      <td>9.862358</td>\n",
       "    </tr>\n",
       "  </tbody>\n",
       "</table>\n",
       "<p>7754 rows × 1 columns</p>\n",
       "</div>"
      ],
      "text/plain": [
       "      magnitude\n",
       "0      7.339379\n",
       "1      9.797581\n",
       "2      9.807762\n",
       "3      9.802319\n",
       "4      9.805597\n",
       "...         ...\n",
       "7749   9.834332\n",
       "7750   9.833424\n",
       "7751   9.843140\n",
       "7752   9.843496\n",
       "7753   9.862358\n",
       "\n",
       "[7754 rows x 1 columns]"
      ]
     },
     "execution_count": 7,
     "metadata": {},
     "output_type": "execute_result"
    }
   ],
   "source": [
    "df_scalar = pd.read_parquet(\"/home/shouheng/.bagel/datasets/scalar/datestr=1969-12-31/snippet_bd63df32_0.364_387.996.parquet\")\n",
    "\n",
    "df_scalar"
   ]
  },
  {
   "cell_type": "code",
   "execution_count": 8,
   "id": "6e9893d1-9a8e-4726-9937-c948a7611379",
   "metadata": {},
   "outputs": [
    {
     "data": {
      "text/plain": [
       "<Axes: >"
      ]
     },
     "execution_count": 8,
     "metadata": {},
     "output_type": "execute_result"
    },
    {
     "data": {
      "image/png": "[encoded data removed]",
      "text/plain": [
       "<Figure size 640x480 with 1 Axes>"
      ]
     },
     "metadata": {},
     "output_type": "display_data"
    }
   ],
   "source": [
    "df_scalar.plot()"
   ]
  },
  {
   "cell_type": "code",
   "execution_count": 9,
   "id": "a9c948d9-bd89-4007-b5c4-2e556dc2f8c3",
   "metadata": {},
   "outputs": [
    {
     "data": {
      "text/html": [
       "<div>\n",
       "<style scoped>\n",
       "    .dataframe tbody tr th:only-of-type {\n",
       "        vertical-align: middle;\n",
       "    }\n",
       "\n",
       "    .dataframe tbody tr th {\n",
       "        vertical-align: top;\n",
       "    }\n",
       "\n",
       "    .dataframe thead th {\n",
       "        text-align: right;\n",
       "    }\n",
       "</style>\n",
       "<table border=\"1\" class=\"dataframe\">\n",
       "  <thead>\n",
       "    <tr style=\"text-align: right;\">\n",
       "      <th></th>\n",
       "      <th>min_magnitude</th>\n",
       "      <th>max_magnitude</th>\n",
       "      <th>avg_magnitude</th>\n",
       "    </tr>\n",
       "  </thead>\n",
       "  <tbody>\n",
       "    <tr>\n",
       "      <th>0</th>\n",
       "      <td>7.111211</td>\n",
       "      <td>14.692728</td>\n",
       "      <td>9.822003</td>\n",
       "    </tr>\n",
       "  </tbody>\n",
       "</table>\n",
       "</div>"
      ],
      "text/plain": [
       "   min_magnitude  max_magnitude  avg_magnitude\n",
       "0       7.111211      14.692728       9.822003"
      ]
     },
     "execution_count": 9,
     "metadata": {},
     "output_type": "execute_result"
    }
   ],
   "source": [
    "pd.read_parquet(\"/home/shouheng/.bagel/datasets/statistics/datestr=1969-12-31/snippet_bd63df32_0.364_387.996.parquet\")"
   ]
  }
 ],
 "metadata": {
  "kernelspec": {
   "display_name": "Python 3 (ipykernel)",
   "language": "python",
   "name": "python3"
  },
  "language_info": {
   "codemirror_mode": {
    "name": "ipython",
    "version": 3
   },
   "file_extension": ".py",
   "mimetype": "text/x-python",
   "name": "python",
   "nbconvert_exporter": "python",
   "pygments_lexer": "ipython3",
   "version": "3.10.12"
  }
 },
 "nbformat": 4,
 "nbformat_minor": 5
}
